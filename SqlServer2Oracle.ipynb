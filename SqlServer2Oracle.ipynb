{
 "cells": [
  {
   "cell_type": "markdown",
   "metadata": {},
   "source": [
    "Recarga de Modulos en cada ejecución"
   ]
  },
  {
   "cell_type": "code",
   "execution_count": 38,
   "metadata": {},
   "outputs": [
    {
     "name": "stdout",
     "output_type": "stream",
     "text": [
      "The autoreload extension is already loaded. To reload it, use:\n",
      "  %reload_ext autoreload\n"
     ]
    }
   ],
   "source": [
    "%load_ext autoreload\n",
    "%autoreload 2"
   ]
  },
  {
   "cell_type": "markdown",
   "metadata": {},
   "source": [
    "Credenciales de conexión"
   ]
  },
  {
   "cell_type": "code",
   "execution_count": 39,
   "metadata": {},
   "outputs": [],
   "source": [
    "'''\n",
    "Lectura de Credenciales en config.json\n",
    "'''\n",
    "import json\n",
    "\n",
    "with open('config.json', 'r') as configfile:\n",
    "    config = json.load(configfile)"
   ]
  },
  {
   "cell_type": "markdown",
   "metadata": {},
   "source": [
    "Importación de Módulos\n",
    "Datos de Entrada"
   ]
  },
  {
   "cell_type": "code",
   "execution_count": 40,
   "metadata": {},
   "outputs": [],
   "source": [
    "import Modulo.DBConnection as db\n",
    "from Modulo.DataMigration import DataMigration\n",
    "\n",
    "#Datos de Entrada\n",
    "origin_database = 'AdventureWorksDW2017'\n",
    "origin_schema ='dbo'\n",
    "origin_table = 'DimEmployee'\n",
    "\n",
    "destiny_database = ''\n",
    "destiny_schema = 'python'\n",
    "destiny_table = origin_table"
   ]
  },
  {
   "cell_type": "markdown",
   "metadata": {},
   "source": [
    "Creación de conexión a Bases de Datos (Origen y Destino)"
   ]
  },
  {
   "cell_type": "code",
   "execution_count": 41,
   "metadata": {},
   "outputs": [],
   "source": [
    "\n",
    "#Conexión a Base de datos fuente (Origen de Datos)\n",
    "origin_credentials = config[\"sqlserver\"]\n",
    "origin_connection = db.SQLServer(origin_credentials[\"user\"], origin_credentials[\"password\"], origin_credentials[\"server\"], 'PRUEBA',origin_credentials[\"port\"])\n",
    "origin_result = origin_connection.crear_conexion()\n",
    "\n",
    "#Conexión a Base de datos destino\n",
    "destiny_credentials = config[\"oracle\"]\n",
    "destiny_connection = db.Oracle(destiny_credentials[\"user\"], destiny_credentials[\"password\"], destiny_credentials[\"server\"], destiny_credentials[\"servicename\"], destiny_credentials[\"port\"])\n",
    "destiny_result = destiny_connection.crear_conexion()\n"
   ]
  },
  {
   "cell_type": "markdown",
   "metadata": {},
   "source": [
    "Creación de Objeto de Migración"
   ]
  },
  {
   "cell_type": "code",
   "execution_count": 42,
   "metadata": {},
   "outputs": [
    {
     "name": "stdout",
     "output_type": "stream",
     "text": [
      "Conexión Realizada con exito a Origen y Destino!\n",
      "La migración es la siguiente: sqlserver --> oracle\n"
     ]
    }
   ],
   "source": [
    "\n",
    "if origin_result == True and destiny_result ==True:\n",
    "    print('Conexión Realizada con exito a Origen y Destino!')\n",
    "\n",
    "    #Objeto de Migracion\n",
    "    migracion = DataMigration()\n",
    "    migracion.set_origin(origin_connection,origin_database, origin_schema, origin_table)\n",
    "    migracion.set_destiny(destiny_connection,destiny_database, destiny_schema, destiny_table)\n",
    "   \n",
    "    print(f'La migración es la siguiente: {migracion.migration_type()}')\n",
    "\n",
    "else:\n",
    "    print('Error en la conexión:')\n",
    "    if origin_result == True:\n",
    "        print('\\n', f'Conexión exitosa con el origen: {origin_connection.type}')\n",
    "    else:\n",
    "        print('\\n', f'Conexión fallida con el origen: {origin_connection.type}')\n",
    "        print(origin_result)\n",
    "\n",
    "    if destiny_result == True:\n",
    "        print('\\n', f'Conexión exitosa con el destino: {destiny_connection.type}')\n",
    "    else:\n",
    "        print('\\n', f'Conexión fallida con el destino: {destiny_connection.type}')\n",
    "        print(destiny_result)"
   ]
  },
  {
   "cell_type": "markdown",
   "metadata": {},
   "source": [
    "Ejecución de Migración de Estructura"
   ]
  },
  {
   "cell_type": "code",
   "execution_count": null,
   "metadata": {},
   "outputs": [],
   "source": [
    "# structure = migracion.get_origin_structure()\n",
    "# structure\n",
    "# query = migracion.generate_destiny_create_table()\n",
    "# print(query)\n",
    "# ejecucion_migracion = migracion.run_structure_migration()\n",
    "\n",
    "# if ejecucion_migracion == True:\n",
    "#     print('Estructura creada con exito!')\n",
    "# else:\n",
    "#     print(f'Se encontro un error en la ejecución:\\n{ejecucion_migracion}')"
   ]
  },
  {
   "cell_type": "markdown",
   "metadata": {},
   "source": [
    "MIGRACION DE DATOS"
   ]
  },
  {
   "cell_type": "code",
   "execution_count": 49,
   "metadata": {},
   "outputs": [
    {
     "name": "stdout",
     "output_type": "stream",
     "text": [
      "Error al ejecutar la Migración de Datos: DPY-2041: missing ending quote (')\n"
     ]
    }
   ],
   "source": [
    "result = migracion.run_data_migration(True)\n",
    "print(result)"
   ]
  }
 ],
 "metadata": {
  "kernelspec": {
   "display_name": "base",
   "language": "python",
   "name": "python3"
  },
  "language_info": {
   "codemirror_mode": {
    "name": "ipython",
    "version": 3
   },
   "file_extension": ".py",
   "mimetype": "text/x-python",
   "name": "python",
   "nbconvert_exporter": "python",
   "pygments_lexer": "ipython3",
   "version": "3.11.7"
  }
 },
 "nbformat": 4,
 "nbformat_minor": 2
}

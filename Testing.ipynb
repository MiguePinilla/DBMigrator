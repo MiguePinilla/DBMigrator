{
 "cells": [
  {
   "cell_type": "code",
   "execution_count": null,
   "metadata": {},
   "outputs": [],
   "source": [
    "%load_ext autoreload\n",
    "%autoreload 2"
   ]
  },
  {
   "cell_type": "code",
   "execution_count": 46,
   "metadata": {},
   "outputs": [],
   "source": [
    "'''\n",
    "Lectura de Credenciales en config.json\n",
    "'''\n",
    "import json\n",
    "\n",
    "with open('config.json', 'r') as configfile:\n",
    "    config = json.load(configfile)\n",
    "#print(config[\"sql_server\"][\"servidor\"])\n"
   ]
  },
  {
   "cell_type": "code",
   "execution_count": 47,
   "metadata": {},
   "outputs": [
    {
     "name": "stdout",
     "output_type": "stream",
     "text": [
      "Conexión Realizada con exito a Origen y Destino!\n",
      "La migración es la siguiente: oracle --> sqlserver\n"
     ]
    }
   ],
   "source": [
    "import Modulo.DBConnection as db\n",
    "from Modulo.StructureMigration import Migration\n",
    "\n",
    "#Datos de Entrada\n",
    "O_database = ''\n",
    "O_schema =''\n",
    "O_table = 'DimEmployee'\n",
    "\n",
    "D_database = 'PRUEBA'\n",
    "D_schema = 'oracle'\n",
    "D_table = O_table\n",
    "\n",
    "#Conexión a Base de datos fuente (Origen de Datos)\n",
    "OriginCreds = config[\"oracle\"]\n",
    "OriginCon = db.Oracle(OriginCreds[\"user\"], OriginCreds[\"password\"], OriginCreds[\"server\"], OriginCreds[\"servicename\"], OriginCreds[\"port\"])\n",
    "OriginResult = OriginCon.crear_conexion()\n",
    "\n",
    "#Conexión a Base de datos destino\n",
    "DestinyCreds = config[\"sql_server\"]\n",
    "DestinyCon = db.SQLServer(DestinyCreds[\"user\"], DestinyCreds[\"password\"], DestinyCreds[\"server\"], 'master', DestinyCreds[\"port\"])\n",
    "DestinyResult = DestinyCon.crear_conexion()\n",
    "\n",
    "if OriginResult and DestinyResult:\n",
    "    print('Conexión Realizada con exito a Origen y Destino!')\n",
    "\n",
    "    #Objeto de Migracion\n",
    "    migracion = Migration()\n",
    "    migracion.setOrigin(OriginCon,O_database, O_schema, O_table)\n",
    "    migracion.setDestiny(DestinyCon,D_database, D_schema, D_table)\n",
    "   \n",
    "    print(f'La migración es la siguiente: {migracion.migrationType()}')\n",
    "\n",
    "else:\n",
    "    print('Error en la conexión:\\n{}')\n"
   ]
  },
  {
   "cell_type": "code",
   "execution_count": null,
   "metadata": {},
   "outputs": [],
   "source": [
    "# structure = migracion.getOriginStructure()\n",
    "# structure.tail(5)\n",
    "# query = migracion.genDestinyQuery()\n",
    "# print(query)"
   ]
  },
  {
   "cell_type": "code",
   "execution_count": 48,
   "metadata": {},
   "outputs": [
    {
     "name": "stdout",
     "output_type": "stream",
     "text": [
      "Estructura creada con exito!\n"
     ]
    }
   ],
   "source": [
    "ejecucion_migracion = migracion.runStructureMigration()\n",
    "\n",
    "if ejecucion_migracion == True:\n",
    "    print('Estructura creada con exito!')\n",
    "else:\n",
    "    print(f'Se encontro un error en la ejecución:\\n{ejecucion_migracion}')"
   ]
  }
 ],
 "metadata": {
  "kernelspec": {
   "display_name": "base",
   "language": "python",
   "name": "python3"
  },
  "language_info": {
   "codemirror_mode": {
    "name": "ipython",
    "version": 3
   },
   "file_extension": ".py",
   "mimetype": "text/x-python",
   "name": "python",
   "nbconvert_exporter": "python",
   "pygments_lexer": "ipython3",
   "version": "3.11.7"
  }
 },
 "nbformat": 4,
 "nbformat_minor": 2
}

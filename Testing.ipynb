{
 "cells": [
  {
   "cell_type": "code",
   "execution_count": 5,
   "metadata": {},
   "outputs": [],
   "source": [
    "%load_ext autoreload\n",
    "%autoreload 2"
   ]
  },
  {
   "cell_type": "code",
   "execution_count": 6,
   "metadata": {},
   "outputs": [],
   "source": [
    "import sys\n",
    "import os\n",
    "#import importlib\n",
    "# Añadir la ruta de la carpeta donde está el módulo\n",
    "#sys.path.append(os.path.abspath('./Modulo'))"
   ]
  },
  {
   "cell_type": "code",
   "execution_count": 7,
   "metadata": {},
   "outputs": [],
   "source": [
    "'''\n",
    "Lectura de Credenciales en config.json\n",
    "\n",
    "'''\n",
    "\n",
    "import json\n",
    "\n",
    "with open('config.json', 'r') as configfile:\n",
    "    config = json.load(configfile)\n",
    "#print(config[\"sql_server\"][\"servidor\"])\n"
   ]
  },
  {
   "cell_type": "code",
   "execution_count": 10,
   "metadata": {},
   "outputs": [
    {
     "name": "stdout",
     "output_type": "stream",
     "text": [
      "Conectando\n",
      "Conectando\n",
      "Conexión Realizada con exito a Origen y Destino!\n",
      "La migración es la siguiente: sql_server --> sql_server\n"
     ]
    }
   ],
   "source": [
    "import Modulo.DBConnection as db\n",
    "from Modulo.StructureMigration import Migration\n",
    "\n",
    "#Datos de Entrada\n",
    "O_database = 'AdventureWorksDW2017'\n",
    "O_schema ='dbo'\n",
    "O_table = 'DimEmployee'\n",
    "\n",
    "D_database = 'PRUEBA'\n",
    "D_schema ='dbo'\n",
    "D_table = 'DimEmployee'\n",
    "\n",
    "#Conexión a fuente de datos\n",
    "OriginCreds = config[\"sql_server\"]\n",
    "OriginCon = db.SQLServer(OriginCreds[\"user\"], OriginCreds[\"password\"], OriginCreds[\"server\"], O_database, OriginCreds[\"port\"])\n",
    "OriginResult = OriginCon.crear_conexion()\n",
    "\n",
    "#Conexión a destino de datos\n",
    "DestinyCreds = config[\"sql_server\"]\n",
    "DestinyCon = db.SQLServer(OriginCreds[\"user\"], OriginCreds[\"password\"], OriginCreds[\"server\"], D_database, OriginCreds[\"port\"])\n",
    "DestinyResult = DestinyCon.crear_conexion()\n",
    "\n",
    "if OriginResult and DestinyResult:\n",
    "    print('Conexión Realizada con exito a Origen y Destino!')\n",
    "\n",
    "    migracion = Migration()\n",
    "    migracion.setOrigin(OriginCon,O_database, O_schema, O_table)\n",
    "    migracion.setDestiny(DestinyCon,D_database, D_schema, D_table)\n",
    "   \n",
    "    print(f'La migración es la siguiente: {migracion.migrationType()}')\n",
    "\n",
    "else:\n",
    "    print('Error en la conexión:\\n{}')\n"
   ]
  },
  {
   "cell_type": "code",
   "execution_count": 20,
   "metadata": {},
   "outputs": [
    {
     "data": {
      "text/html": [
       "<div>\n",
       "<style scoped>\n",
       "    .dataframe tbody tr th:only-of-type {\n",
       "        vertical-align: middle;\n",
       "    }\n",
       "\n",
       "    .dataframe tbody tr th {\n",
       "        vertical-align: top;\n",
       "    }\n",
       "\n",
       "    .dataframe thead th {\n",
       "        text-align: right;\n",
       "    }\n",
       "</style>\n",
       "<table border=\"1\" class=\"dataframe\">\n",
       "  <thead>\n",
       "    <tr style=\"text-align: right;\">\n",
       "      <th></th>\n",
       "      <th>ORDEN</th>\n",
       "      <th>TABLE_CATALOG</th>\n",
       "      <th>TABLE_SCHEMA</th>\n",
       "      <th>TABLE_NAME</th>\n",
       "      <th>COLUMN_NAME</th>\n",
       "      <th>IS_NULLABLE</th>\n",
       "      <th>DATA_TYPE</th>\n",
       "      <th>CHARACTER_MAXIMUM_LENGTH</th>\n",
       "      <th>NUMERIC_PRECISION</th>\n",
       "      <th>NUMERIC_SCALE</th>\n",
       "    </tr>\n",
       "  </thead>\n",
       "  <tbody>\n",
       "    <tr>\n",
       "      <th>0</th>\n",
       "      <td>1</td>\n",
       "      <td>AdventureWorksDW2017</td>\n",
       "      <td>dbo</td>\n",
       "      <td>DimEmployee</td>\n",
       "      <td>EmployeeKey</td>\n",
       "      <td>NO</td>\n",
       "      <td>int</td>\n",
       "      <td>NaN</td>\n",
       "      <td>10.0</td>\n",
       "      <td>0.0</td>\n",
       "    </tr>\n",
       "    <tr>\n",
       "      <th>1</th>\n",
       "      <td>2</td>\n",
       "      <td>AdventureWorksDW2017</td>\n",
       "      <td>dbo</td>\n",
       "      <td>DimEmployee</td>\n",
       "      <td>ParentEmployeeKey</td>\n",
       "      <td>YES</td>\n",
       "      <td>int</td>\n",
       "      <td>NaN</td>\n",
       "      <td>10.0</td>\n",
       "      <td>0.0</td>\n",
       "    </tr>\n",
       "    <tr>\n",
       "      <th>2</th>\n",
       "      <td>3</td>\n",
       "      <td>AdventureWorksDW2017</td>\n",
       "      <td>dbo</td>\n",
       "      <td>DimEmployee</td>\n",
       "      <td>EmployeeNationalIDAlternateKey</td>\n",
       "      <td>YES</td>\n",
       "      <td>nvarchar</td>\n",
       "      <td>15.0</td>\n",
       "      <td>NaN</td>\n",
       "      <td>NaN</td>\n",
       "    </tr>\n",
       "    <tr>\n",
       "      <th>3</th>\n",
       "      <td>4</td>\n",
       "      <td>AdventureWorksDW2017</td>\n",
       "      <td>dbo</td>\n",
       "      <td>DimEmployee</td>\n",
       "      <td>ParentEmployeeNationalIDAlternateKey</td>\n",
       "      <td>YES</td>\n",
       "      <td>nvarchar</td>\n",
       "      <td>15.0</td>\n",
       "      <td>NaN</td>\n",
       "      <td>NaN</td>\n",
       "    </tr>\n",
       "    <tr>\n",
       "      <th>4</th>\n",
       "      <td>5</td>\n",
       "      <td>AdventureWorksDW2017</td>\n",
       "      <td>dbo</td>\n",
       "      <td>DimEmployee</td>\n",
       "      <td>SalesTerritoryKey</td>\n",
       "      <td>YES</td>\n",
       "      <td>int</td>\n",
       "      <td>NaN</td>\n",
       "      <td>10.0</td>\n",
       "      <td>0.0</td>\n",
       "    </tr>\n",
       "  </tbody>\n",
       "</table>\n",
       "</div>"
      ],
      "text/plain": [
       "   ORDEN         TABLE_CATALOG TABLE_SCHEMA   TABLE_NAME  \\\n",
       "0      1  AdventureWorksDW2017          dbo  DimEmployee   \n",
       "1      2  AdventureWorksDW2017          dbo  DimEmployee   \n",
       "2      3  AdventureWorksDW2017          dbo  DimEmployee   \n",
       "3      4  AdventureWorksDW2017          dbo  DimEmployee   \n",
       "4      5  AdventureWorksDW2017          dbo  DimEmployee   \n",
       "\n",
       "                            COLUMN_NAME IS_NULLABLE DATA_TYPE  \\\n",
       "0                           EmployeeKey          NO       int   \n",
       "1                     ParentEmployeeKey         YES       int   \n",
       "2        EmployeeNationalIDAlternateKey         YES  nvarchar   \n",
       "3  ParentEmployeeNationalIDAlternateKey         YES  nvarchar   \n",
       "4                     SalesTerritoryKey         YES       int   \n",
       "\n",
       "   CHARACTER_MAXIMUM_LENGTH  NUMERIC_PRECISION  NUMERIC_SCALE  \n",
       "0                       NaN               10.0            0.0  \n",
       "1                       NaN               10.0            0.0  \n",
       "2                      15.0                NaN            NaN  \n",
       "3                      15.0                NaN            NaN  \n",
       "4                       NaN               10.0            0.0  "
      ]
     },
     "execution_count": 20,
     "metadata": {},
     "output_type": "execute_result"
    }
   ],
   "source": [
    "columns = migracion.getOriginStr()\n",
    "columns.head(5)"
   ]
  },
  {
   "cell_type": "code",
   "execution_count": 17,
   "metadata": {},
   "outputs": [
    {
     "data": {
      "text/plain": [
       "\"\\n\\t\\tUSE @@DATABASE@@\\n\\t\\tGO\\n\\n\\t\\tIF NOT EXISTS (SELECT SCHEMA_ID FROM sys.schemas WHERE [name] = '@@SCHEMA@@')\\n\\t\\tBEGIN\\n\\t\\t\\tEXECUTE('CREATE SCHEMA @@SCHEMA@@');\\n\\t\\tEND;\\n\\t\\tGO\\n\\n\\t\\tCREATE TABLE @@SCHEMA@@.@@TABLE@@ (\\n\\t\\t@@COLUMNAS@@\\n\\t\\t)\\n\\t\\tGO\\n\\t\\t\""
      ]
     },
     "execution_count": 17,
     "metadata": {},
     "output_type": "execute_result"
    }
   ],
   "source": [
    "#import Modulo.QueryTemplates as qt\n",
    "#query = qt.templates[\"sql_server\"][\"TableCreation\"].replace('@@DATABASE@@', self.OriginDatabase).replace('@@SCHEMA@@', self.OriginSchema).replace('@@TABLE@@', self.OriginTable)\n",
    "#query = query.replace('@@COLUMNS@@', columns)\n",
    "\n",
    "columns[[\"SYNTAX\"]] "
   ]
  }
 ],
 "metadata": {
  "kernelspec": {
   "display_name": "base",
   "language": "python",
   "name": "python3"
  },
  "language_info": {
   "codemirror_mode": {
    "name": "ipython",
    "version": 3
   },
   "file_extension": ".py",
   "mimetype": "text/x-python",
   "name": "python",
   "nbconvert_exporter": "python",
   "pygments_lexer": "ipython3",
   "version": "3.11.7"
  }
 },
 "nbformat": 4,
 "nbformat_minor": 2
}

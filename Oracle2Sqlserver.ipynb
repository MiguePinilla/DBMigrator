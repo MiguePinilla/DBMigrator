{
 "cells": [
  {
   "cell_type": "markdown",
   "metadata": {},
   "source": [
    "Recarga de Modulos en cada ejecución"
   ]
  },
  {
   "cell_type": "code",
   "execution_count": 125,
   "metadata": {},
   "outputs": [
    {
     "name": "stdout",
     "output_type": "stream",
     "text": [
      "The autoreload extension is already loaded. To reload it, use:\n",
      "  %reload_ext autoreload\n"
     ]
    }
   ],
   "source": [
    "%load_ext autoreload\n",
    "%autoreload 2"
   ]
  },
  {
   "cell_type": "markdown",
   "metadata": {},
   "source": [
    "#### Lectura de Credenciales de conexión"
   ]
  },
  {
   "cell_type": "code",
   "execution_count": 126,
   "metadata": {},
   "outputs": [],
   "source": [
    "'''\n",
    "Lectura de Credenciales en config.json\n",
    "'''\n",
    "import json\n",
    "\n",
    "with open('config.json', 'r') as configfile:\n",
    "    config = json.load(configfile)"
   ]
  },
  {
   "cell_type": "markdown",
   "metadata": {},
   "source": [
    "#### Importación de Módulos y Datos de Entrada"
   ]
  },
  {
   "cell_type": "code",
   "execution_count": 127,
   "metadata": {},
   "outputs": [],
   "source": [
    "import Modulo.DBConnection as db\n",
    "from Modulo.DataMigration import DataMigration\n",
    "\n",
    "#Datos de Entrada\n",
    "origin_database = ''\n",
    "origin_schema ='python'\n",
    "origin_table = 'REGIONS'\n",
    "\n",
    "destiny_database = 'PRUEBA'\n",
    "destiny_schema = 'oracle'\n",
    "destiny_table = origin_table"
   ]
  },
  {
   "cell_type": "markdown",
   "metadata": {},
   "source": [
    "#### Creación de conexión a Bases de Datos (Origen y Destino)"
   ]
  },
  {
   "cell_type": "code",
   "execution_count": 128,
   "metadata": {},
   "outputs": [],
   "source": [
    "\n",
    "#Conexión a Base de datos fuente (Origen de Datos)\n",
    "origin_credentials = config[\"oracle\"]\n",
    "origin_connection = db.Oracle(origin_credentials[\"user\"], origin_credentials[\"password\"], origin_credentials[\"server\"], origin_credentials[\"servicename\"], origin_credentials[\"port\"])\n",
    "origin_result = origin_connection.crear_conexion()\n",
    "\n",
    "#Conexión a Base de datos destino\n",
    "destiny_credentials = config[\"sqlserver\"]\n",
    "destiny_connection = db.SQLServer(destiny_credentials[\"user\"], destiny_credentials[\"password\"], destiny_credentials[\"server\"], 'PRUEBA',destiny_credentials[\"port\"])\n",
    "destiny_result = destiny_connection.crear_conexion()\n"
   ]
  },
  {
   "cell_type": "markdown",
   "metadata": {},
   "source": [
    "#### Creación de Objeto de Migración"
   ]
  },
  {
   "cell_type": "code",
   "execution_count": 129,
   "metadata": {},
   "outputs": [
    {
     "name": "stdout",
     "output_type": "stream",
     "text": [
      "Conexión Realizada con exito a Origen y Destino!\n",
      "La migración es la siguiente: oracle --> sqlserver\n"
     ]
    }
   ],
   "source": [
    "\n",
    "if origin_result == True and destiny_result ==True:\n",
    "    print('Conexión Realizada con exito a Origen y Destino!')\n",
    "\n",
    "    #Objeto de Migracion\n",
    "    migracion = DataMigration()\n",
    "    migracion.set_origin(origin_connection,origin_database, origin_schema, origin_table)\n",
    "    migracion.set_destiny(destiny_connection,destiny_database, destiny_schema, destiny_table)\n",
    "   \n",
    "    print(f'La migración es la siguiente: {migracion.migration_type()}')\n",
    "\n",
    "else:\n",
    "    print('Error en la conexión:')\n",
    "    if origin_result == True:\n",
    "        print('\\n', f'Conexión exitosa con el origen: {origin_connection.type}')\n",
    "    else:\n",
    "        print('\\n', f'Conexión fallida con el origen: {origin_connection.type}')\n",
    "        print(origin_result)\n",
    "\n",
    "    if destiny_result == True:\n",
    "        print('\\n', f'Conexión exitosa con el destino: {destiny_connection.type}')\n",
    "    else:\n",
    "        print('\\n', f'Conexión fallida con el destino: {destiny_connection.type}')\n",
    "        print(destiny_result)"
   ]
  },
  {
   "cell_type": "markdown",
   "metadata": {},
   "source": [
    "#### Ejecución de Migración de Estructura\n",
    "No es necesario al utilizar la función run_data_migration(), lo ejecuta internamente si es necesario."
   ]
  },
  {
   "cell_type": "code",
   "execution_count": null,
   "metadata": {},
   "outputs": [],
   "source": [
    "# structure = migracion.get_origin_structure()\n",
    "# structure\n",
    "# query = migracion.generate_destiny_create_table()\n",
    "# print(query)\n",
    "# ejecucion_migracion = migracion.run_structure_migration()\n",
    "\n",
    "# if ejecucion_migracion == True:\n",
    "#     print('Estructura creada con exito!')\n",
    "# else:\n",
    "#     print(f'Se encontro un error en la ejecución:\\n{ejecucion_migracion}')"
   ]
  },
  {
   "cell_type": "markdown",
   "metadata": {},
   "source": [
    "#### Migración de Datos"
   ]
  },
  {
   "cell_type": "code",
   "execution_count": 132,
   "metadata": {},
   "outputs": [
    {
     "name": "stdout",
     "output_type": "stream",
     "text": [
      "EJECUTANDO TRUNCATE\n",
      "True\n"
     ]
    }
   ],
   "source": [
    "result = migracion.run_data_migration(True)\n",
    "print(result)"
   ]
  }
 ],
 "metadata": {
  "kernelspec": {
   "display_name": "base",
   "language": "python",
   "name": "python3"
  },
  "language_info": {
   "codemirror_mode": {
    "name": "ipython",
    "version": 3
   },
   "file_extension": ".py",
   "mimetype": "text/x-python",
   "name": "python",
   "nbconvert_exporter": "python",
   "pygments_lexer": "ipython3",
   "version": "3.11.7"
  }
 },
 "nbformat": 4,
 "nbformat_minor": 2
}
